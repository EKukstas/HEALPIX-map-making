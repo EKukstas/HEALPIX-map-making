{
 "cells": [
  {
   "cell_type": "code",
   "execution_count": 1,
   "metadata": {},
   "outputs": [
    {
     "name": "stderr",
     "output_type": "stream",
     "text": [
      "/usr/lib/python2.7/dist-packages/h5py/__init__.py:36: FutureWarning: Conversion of the second argument of issubdtype from `float` to `np.floating` is deprecated. In future, it will be treated as `np.float64 == np.dtype(float).type`.\n",
      "  from ._conv import register_converters as _register_converters\n"
     ]
    },
    {
     "data": {
      "text/html": [
       "<style>.container { width:100% !important; }</style>"
      ],
      "text/plain": [
       "<IPython.core.display.HTML object>"
      ]
     },
     "metadata": {},
     "output_type": "display_data"
    }
   ],
   "source": [
    "from __future__ import division\n",
    "import healpy as hp\n",
    "import numpy as np\n",
    "import matplotlib.pyplot as plt\n",
    "import astropy.io.fits as pyfits # https://pythonhosted.org/pyfits/\n",
    "from matplotlib import cm\n",
    "from collections import Counter\n",
    "import pickle\n",
    "import h5py \n",
    "import sys\n",
    "from scipy.io import readsav\n",
    "from astropy import units as u\n",
    "from astropy.coordinates import SkyCoord\n",
    "from decimal import Decimal\n",
    "# Initialise the module with these two lines\n",
    "import safe_colours\n",
    "safe_colours = safe_colours.initialise()\n",
    "cmap = plt.get_cmap('viridis')\n",
    "cmap.set_over(cmap(1.0))\n",
    "cmap.set_under('w')\n",
    "cmap.set_bad('gray')\n",
    "####################################################################\n",
    "from IPython.core.display import display, HTML\n",
    "display(HTML(\"<style>.container { width:100% !important; }</style>\"))"
   ]
  },
  {
   "cell_type": "code",
   "execution_count": 2,
   "metadata": {},
   "outputs": [
    {
     "name": "stderr",
     "output_type": "stream",
     "text": [
      "/usr/lib/python2.7/dist-packages/scipy/io/idl.py:473: UserWarning: Using experimental 64-bit array read\n",
      "  warnings.warn(\"Using experimental 64-bit array read\")\n"
     ]
    }
   ],
   "source": [
    "file = readsav('/hpcdata3/ariekuks/2019_02_28/sim_vars/bahamas/power_spectra/BAHAMAS_subfind_y_z_lt_0p15_image_ngp_0p008z0p150_logM11p0_fov25_smooth_20_ntot+nq+fq_rebin+ms+beam+noise.sav')\n",
    "#print file.keys()"
   ]
  },
  {
   "cell_type": "code",
   "execution_count": null,
   "metadata": {},
   "outputs": [],
   "source": [
    "ra_t = np.arange(0.0, 25.0, 25.0/9000)\n",
    "dec_t = np.arange(0.0, 25.0, 25.0/9000)\n",
    "ra = []\n",
    "dec = []\n",
    "for i in range(0,9000):\n",
    "    ra = np.append(ra, ra_t)\n",
    "    dec = np.append(dec, np.ones(9000) * dec_t[i])\n",
    "\n",
    "\n",
    "sz_y = np.array(file['image_y'])\n",
    "sz_y = np.reshape(sz_y, np.size(sz_y))\n",
    "filename = 'tSZ_BAHAMAS_subfind_y_z_lt_0p15_image_ngp'\n",
    "##########################################################################################\n",
    "map_to_analyse = sz_y\n",
    "##########################################################################################\n",
    "print 'read in map, making HEALPix'\n",
    "NSIDE = 2048\n",
    "\n",
    "# set up a blank map\n",
    "m = hp.ma(np.arange(hp.nside2npix(NSIDE), dtype=np.double))\n",
    "pixel_theta, pixel_phi = hp.pix2ang(NSIDE, np.arange(hp.nside2npix(NSIDE)))\n",
    "mask = 1\n",
    "m.mask = mask\n",
    "\n",
    "gal = np.empty(shape=(np.size(dec), 2))\n",
    "c_icrs = SkyCoord(ra=ra*u.degree, dec=dec*u.degree, frame='icrs')\n",
    "c_gal = c_icrs.galactic\n",
    "\n",
    "gal[:,0] = c_gal.l*u.degree\n",
    "gal[:,1] = c_gal.b*u.degree\n",
    "gal[:,1] = 90. - gal[:,1]\n",
    "pix_index = hp.ang2pix(NSIDE, np.radians(gal[:,1]), np.radians(gal[:,0])) # get pixel indices for all input coordinates, many will be repeated\n",
    "\n",
    "\n",
    "y = Counter(pix_index) # count the number of repeated pix_index, their values, etc.\n",
    "\n",
    "print 'No. of pixels used, total: ', np.size(pix_index)\n",
    "print 'No. of pixels assigned galaxies: ', np.size(y.values())\n",
    "print 'Mean pixel occupation: ', np.mean(y.values())\n",
    "\n",
    "ind_d = np.where(np.array(y.values()) > 1)[0] # index in y for multiply-occupied pixels\n",
    "ind_nd = np.where(np.array(y.values()) == 1)[0] # index in y for \n",
    "\n",
    "print 'No. of multiply-occupied pixels: ', np.size(np.where(np.array(y.values()) > 1)[0])\n",
    "print 'No. of singly-occupied pixels: ', np.size(y.values()) - np.size(np.where(np.array(y.values()) > 1)[0])\n",
    "\n",
    "N = np.array(list(y)).astype(int) # List of unique pixels; repeated or not\n",
    "\n",
    "ind_sorted = np.argsort(pix_index).astype(int) # sort pix_index in increasing order, repeated indices bunch up\n",
    "pix_index_sorted = pix_index[ind_sorted] # apply this sorting\n",
    "map_to_analyse_sorted = map_to_analyse[ind_sorted] # sort their values to preserve order\n",
    "\n",
    "in_points_nd = np.searchsorted(pix_index_sorted, N[ind_nd]) # find the sub-indices for singly-occupied pixel indices\n",
    "m[pix_index_sorted[in_points_nd]] = map_to_analyse_sorted[in_points_nd] # locate these singly-occupied pixels in the HP map and assign their value\n",
    "\n",
    "# now do the same to multiply-occupied pixels\n",
    "in_points_d = np.searchsorted(pix_index_sorted, N[ind_d]) # find the sub-index for multiply-occupied pixel indices\n",
    "for i in range(0, len(in_points_d)): # loop over each one, locating its value and adding it to the rest, divinding by the number of constituent square pixels to get the mean.\n",
    "    #print i\n",
    "    j = 0\n",
    "    sum = 0.0\n",
    "    while (pix_index_sorted[in_points_d[i]] == pix_index_sorted[in_points_d[i] + j]): # while HP pixel index is the same as the next (they are sorted)\n",
    "        #print in_points[i] + j\n",
    "        sum = sum + map_to_analyse_sorted[in_points_d[i]] # this code is only aimed at computing total value and the mean. Change this line to do something else, like the median if that's what's needed.\n",
    "        j = j + 1\n",
    "        if in_points_d[i] + j >= np.size(pix_index_sorted):\n",
    "            print in_points_d[i], in_points_d[i] + j\n",
    "            break\n",
    "        m[pix_index_sorted[in_points_d[i]]] = sum/j # assign the mean value to the healpix map. sum==the sum of constituent pixel values; j==the number of constituent pixels\n",
    "                                                    # replace sum/j by a desired operation, such as just sum.\n",
    "hp.mollview(m, title='BAHAMAS tSZ', cmap=cmap) # display this map\n",
    "plt.show()"
   ]
  },
  {
   "cell_type": "code",
   "execution_count": null,
   "metadata": {},
   "outputs": [],
   "source": [
    "map_max = 2e-5\n",
    "map_min = 1e-10\n",
    "hp.mollview(m, cbar=None, rot=[90, -60.0], cmap=cmap, norm='hist', min=map_min, max=map_max, title='')\n",
    "\n",
    "# Add a colour bar to the mollweide plot\n",
    "fig = plt.gcf()\n",
    "ax = plt.gca()\n",
    "image = ax.get_images()[0]\n",
    "c_min = map_min\n",
    "c_max = map_max\n",
    "cbar = fig.colorbar(image, ax=ax, ticks=[c_min, c_max], orientation='horizontal', fraction=0.036, pad=0.04, shrink=1.0, aspect=35)\n",
    "#cbar = fig.colorbar(image, ax=ax, ticks=[c_min, 0.00, c_max], orientation='horizontal', fraction=0.036, pad=0.04, shrink=1.0, aspect=35)\n",
    "cbar.ax.get_xaxis().labelpad = -13.\n",
    "cbar.ax.set_xlabel('BAHAMAS tSZ')\n",
    "#cbar.ax.set_xticklabels([np.round(c_min, decimals=4), 0.000, np.round(c_max, decimals=4)])  # horizontal colorbar\n",
    "cbar.ax.set_xticklabels([\"{:.2E}\".format(Decimal(c_min)), \"{:.2E}\".format(Decimal(c_max))])  # horizontal colorbar\n",
    "# cbar.ax.set_xticklabels([\"{:.5f}\".format(Decimal(c_min)), \"{:.5f}\".format(Decimal(c_max))])  # horizontal colorbar\n",
    "\n",
    "##################################################################################################\n",
    "print 'Compare totals', np.mean(map_to_analyse), np.mean(m) # compare the input and output map means, should be very close if mean is preserved. Compare sums if that's what's required.\n",
    "# plt.savefig('/hpcdata3/ariekuks/2019_02_28/figures/BAHAMAS_hp/map_'+str(filename)+'.png', format='png', dpi=300, bbox_inches='tight')\n",
    "\n",
    "#print 'Finished computing ns 20 maps'\n",
    "plt.show()\n"
   ]
  },
  {
   "cell_type": "code",
   "execution_count": null,
   "metadata": {},
   "outputs": [],
   "source": []
  }
 ],
 "metadata": {
  "kernelspec": {
   "display_name": "Python 2",
   "language": "python",
   "name": "python2"
  },
  "language_info": {
   "codemirror_mode": {
    "name": "ipython",
    "version": 2
   },
   "file_extension": ".py",
   "mimetype": "text/x-python",
   "name": "python",
   "nbconvert_exporter": "python",
   "pygments_lexer": "ipython2",
   "version": "2.7.15+"
  }
 },
 "nbformat": 4,
 "nbformat_minor": 2
}
